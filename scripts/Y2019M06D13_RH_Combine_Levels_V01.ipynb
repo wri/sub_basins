{
 "cells": [
  {
   "cell_type": "code",
   "execution_count": 1,
   "metadata": {
    "collapsed": true
   },
   "outputs": [],
   "source": [
    "\"\"\" Combine level 7 for coastal and level 6 inland.\n",
    "-------------------------------------------------------------------------------\n",
    "\n",
    "TODO: \n",
    "\n",
    "- add area per polygon\n",
    "- remove small polygons\n",
    "\n",
    "\n",
    "Author: Rutger Hofste\n",
    "Date: 20190613\n",
    "Kernel: python35\n",
    "Docker: rutgerhofste/gisdocker:ubuntu16.04\n",
    "\n",
    "\"\"\"\n",
    "\n",
    "SCRIPT_NAME = \"Y2019M06D13_RH_Combine_Levels_V01\"\n",
    "OUTPUT_VERSION  = 1\n",
    "\n",
    "S3_INPUT_PATH= \"s3://wri-projects/Aqueduct30/processData/Y2019M06D13_RH_Simplify_Geometries_V01\"\n",
    "\n",
    "ec2_input_path = \"/volumes/data/{}/input_V{:02.0f}\".format(SCRIPT_NAME,OUTPUT_VERSION)\n",
    "ec2_output_path = \"/volumes/data/{}/output_V{:02.0f}\".format(SCRIPT_NAME,OUTPUT_VERSION)\n",
    "\n",
    "s3_output_path = \"s3://wri-projects/Aqueduct30/processData/{}/output_V{:02.0f}/\".format(SCRIPT_NAME,OUTPUT_VERSION)"
   ]
  },
  {
   "cell_type": "code",
   "execution_count": 2,
   "metadata": {},
   "outputs": [
    {
     "name": "stdout",
     "output_type": "stream",
     "text": [
      "Y2019M06D13 UTC 21:57\n"
     ]
    }
   ],
   "source": [
    "import time, datetime, sys\n",
    "dateString = time.strftime(\"Y%YM%mD%d\")\n",
    "timeString = time.strftime(\"UTC %H:%M\")\n",
    "start = datetime.datetime.now()\n",
    "print(dateString,timeString)\n",
    "sys.version\n",
    "%matplotlib inline"
   ]
  },
  {
   "cell_type": "code",
   "execution_count": 3,
   "metadata": {},
   "outputs": [],
   "source": [
    "!rm -r {ec2_input_path} \n",
    "!rm -r {ec2_output_path} \n",
    "!mkdir -p {ec2_input_path} \n",
    "!mkdir -p {ec2_output_path} "
   ]
  },
  {
   "cell_type": "code",
   "execution_count": 4,
   "metadata": {},
   "outputs": [
    {
     "name": "stdout",
     "output_type": "stream",
     "text": [
      "download: s3://wri-projects/Aqueduct30/processData/Y2019M06D13_RH_Simplify_Geometries_V01/hybas_merged_standard_level6_V01_simplified/hybas_merged_standard_level6_V01.prj to ../../../data/Y2019M06D13_RH_Combine_Levels_V01/input_V01/hybas_merged_standard_level6_V01_simplified/hybas_merged_standard_level6_V01.prj\n",
      "download: s3://wri-projects/Aqueduct30/processData/Y2019M06D13_RH_Simplify_Geometries_V01/hybas_merged_standard_level7_V01_simplified/hybas_merged_standard_level7_V01.prj to ../../../data/Y2019M06D13_RH_Combine_Levels_V01/input_V01/hybas_merged_standard_level7_V01_simplified/hybas_merged_standard_level7_V01.prj\n",
      "download: s3://wri-projects/Aqueduct30/processData/Y2019M06D13_RH_Simplify_Geometries_V01/hybas_merged_standard_level6_V01_simplified/hybas_merged_standard_level6_V01.shx to ../../../data/Y2019M06D13_RH_Combine_Levels_V01/input_V01/hybas_merged_standard_level6_V01_simplified/hybas_merged_standard_level6_V01.shx\n",
      "download: s3://wri-projects/Aqueduct30/processData/Y2019M06D13_RH_Simplify_Geometries_V01/hybas_merged_standard_level7_V01_simplified/hybas_merged_standard_level7_V01.shx to ../../../data/Y2019M06D13_RH_Combine_Levels_V01/input_V01/hybas_merged_standard_level7_V01_simplified/hybas_merged_standard_level7_V01.shx\n",
      "download: s3://wri-projects/Aqueduct30/processData/Y2019M06D13_RH_Simplify_Geometries_V01/hybas_merged_standard_level6_V01_simplified/hybas_merged_standard_level6_V01.dbf to ../../../data/Y2019M06D13_RH_Combine_Levels_V01/input_V01/hybas_merged_standard_level6_V01_simplified/hybas_merged_standard_level6_V01.dbf\n",
      "download: s3://wri-projects/Aqueduct30/processData/Y2019M06D13_RH_Simplify_Geometries_V01/hybas_merged_standard_level7_V01_simplified/hybas_merged_standard_level7_V01.dbf to ../../../data/Y2019M06D13_RH_Combine_Levels_V01/input_V01/hybas_merged_standard_level7_V01_simplified/hybas_merged_standard_level7_V01.dbf\n",
      "download: s3://wri-projects/Aqueduct30/processData/Y2019M06D13_RH_Simplify_Geometries_V01/hybas_merged_standard_level6_V01_simplified/hybas_merged_standard_level6_V01.shp to ../../../data/Y2019M06D13_RH_Combine_Levels_V01/input_V01/hybas_merged_standard_level6_V01_simplified/hybas_merged_standard_level6_V01.shp\n",
      "download: s3://wri-projects/Aqueduct30/processData/Y2019M06D13_RH_Simplify_Geometries_V01/hybas_merged_standard_level7_V01_simplified/hybas_merged_standard_level7_V01.shp to ../../../data/Y2019M06D13_RH_Combine_Levels_V01/input_V01/hybas_merged_standard_level7_V01_simplified/hybas_merged_standard_level7_V01.shp\n"
     ]
    }
   ],
   "source": [
    "!aws s3 cp {S3_INPUT_PATH} {ec2_input_path} --recursive"
   ]
  },
  {
   "cell_type": "code",
   "execution_count": 5,
   "metadata": {
    "collapsed": true
   },
   "outputs": [],
   "source": [
    "import pandas as pd\n",
    "import geopandas as gpd"
   ]
  },
  {
   "cell_type": "code",
   "execution_count": 6,
   "metadata": {
    "collapsed": true
   },
   "outputs": [],
   "source": [
    "input_path_level6 = \"{}/hybas_merged_standard_level6_V01_simplified/hybas_merged_standard_level6_V01.shp\".format(ec2_input_path)\n",
    "input_path_level7 = \"{}/hybas_merged_standard_level7_V01_simplified/hybas_merged_standard_level7_V01.shp\".format(ec2_input_path)"
   ]
  },
  {
   "cell_type": "code",
   "execution_count": 7,
   "metadata": {
    "collapsed": true
   },
   "outputs": [],
   "source": [
    "gdf_level6_og = gpd.read_file(filename=input_path_level6)\n",
    "gdf_level7_og = gpd.read_file(filename=input_path_level7)"
   ]
  },
  {
   "cell_type": "code",
   "execution_count": 8,
   "metadata": {},
   "outputs": [
    {
     "data": {
      "text/plain": [
       "(16397, 14)"
      ]
     },
     "execution_count": 8,
     "metadata": {},
     "output_type": "execute_result"
    }
   ],
   "source": [
    "gdf_level6_og.shape"
   ]
  },
  {
   "cell_type": "code",
   "execution_count": 9,
   "metadata": {},
   "outputs": [
    {
     "data": {
      "text/plain": [
       "(57646, 14)"
      ]
     },
     "execution_count": 9,
     "metadata": {},
     "output_type": "execute_result"
    }
   ],
   "source": [
    "gdf_level7_og.shape"
   ]
  },
  {
   "cell_type": "code",
   "execution_count": 10,
   "metadata": {},
   "outputs": [],
   "source": [
    "gdf_level7 = gdf_level7_og.loc[gdf_level7_og[\"geometry\"].notnull()]\n",
    "gdf_level6 = gdf_level6_og.loc[gdf_level6_og[\"geometry\"].notnull()]"
   ]
  },
  {
   "cell_type": "code",
   "execution_count": 11,
   "metadata": {},
   "outputs": [],
   "source": [
    "# Select all inland level 6 basins\n",
    "gdf_level6_inland = gdf_level6.loc[gdf_level6[\"COAST\"] == 0]\n",
    "gdf_level6_coast = gdf_level6.loc[gdf_level6[\"COAST\"] == 1]"
   ]
  },
  {
   "cell_type": "code",
   "execution_count": 12,
   "metadata": {},
   "outputs": [],
   "source": [
    "def find_corresponding_basins(pfaf_id_level6,gdf_level7):\n",
    "    \"\"\"\n",
    "    Using a pfaf_id from level 6, find all hydrobasins in level 7 that \n",
    "    make up the hydrobasin level 6 polygon.\n",
    "    \n",
    "    \"\"\"\n",
    "    pfaf_id_level7_min = pfaf_id_level6*10\n",
    "    pfaf_id_level7_max = pfaf_id_level7_min + 9\n",
    "    \n",
    "    gdf_level7_selection = gdf_level7.loc[(gdf_level7[\"PFAF_ID\"] >= pfaf_id_level7_min)&(gdf_level7[\"PFAF_ID\"] <= pfaf_id_level7_max)]    \n",
    "    return gdf_level7_selection"
   ]
  },
  {
   "cell_type": "code",
   "execution_count": 13,
   "metadata": {},
   "outputs": [],
   "source": [
    "list_level7_coast = []\n",
    "for index, row in gdf_level6_coast.iterrows():\n",
    "    pfaf_id_level6 = row[\"PFAF_ID\"]\n",
    "    gdf_level7_coast_selection = find_corresponding_basins(pfaf_id_level6,gdf_level7)\n",
    "    list_level7_coast.append(gdf_level7_coast_selection)"
   ]
  },
  {
   "cell_type": "code",
   "execution_count": 14,
   "metadata": {},
   "outputs": [],
   "source": [
    "df = pd.concat(list_level7_coast)"
   ]
  },
  {
   "cell_type": "code",
   "execution_count": 15,
   "metadata": {
    "collapsed": true
   },
   "outputs": [],
   "source": [
    "gdf_level7_coast = gpd.GeoDataFrame(df)"
   ]
  },
  {
   "cell_type": "code",
   "execution_count": 16,
   "metadata": {},
   "outputs": [],
   "source": [
    "# Combine level 6 inland with level 7 equivalent for coastal."
   ]
  },
  {
   "cell_type": "code",
   "execution_count": 17,
   "metadata": {
    "collapsed": true
   },
   "outputs": [],
   "source": [
    "gdf_combined = gdf_level6_inland.append(gdf_level7_coast)"
   ]
  },
  {
   "cell_type": "code",
   "execution_count": 18,
   "metadata": {
    "collapsed": true
   },
   "outputs": [],
   "source": [
    "def explode(gdf):\n",
    "    \"\"\" \n",
    "    Explodes a geodataframe \n",
    "    \n",
    "    Will explode muti-part geometries into single geometries. Original index is\n",
    "    stored in column level_0 and zero-based count of geometries per multi-\n",
    "    geometry is stored in level_1\n",
    "    \n",
    "    Args:\n",
    "        gdf (gpd.GeoDataFrame) : input geodataframe with multi-geometries\n",
    "        \n",
    "    Returns:\n",
    "        gdf (gpd.GeoDataFrame) : exploded geodataframe with a new index \n",
    "                                 and two new columns: level_0 and level_1\n",
    "        \n",
    "    \"\"\"\n",
    "    gs = gdf.explode()\n",
    "    gdf2 = gs.reset_index().rename(columns={0: 'geometry'})\n",
    "    gdf_out = gdf2.merge(gdf.drop('geometry', axis=1), left_on='level_0', right_index=True)\n",
    "    gdf_out = gdf_out.set_index(['level_0', 'level_1']).set_geometry('geometry')\n",
    "    gdf_out.crs = gdf.crs\n",
    "    return gdf_out"
   ]
  },
  {
   "cell_type": "code",
   "execution_count": 19,
   "metadata": {},
   "outputs": [],
   "source": [
    "gdf_exploded = explode(gdf_combined)"
   ]
  },
  {
   "cell_type": "code",
   "execution_count": 20,
   "metadata": {},
   "outputs": [
    {
     "data": {
      "text/html": [
       "<div>\n",
       "<style scoped>\n",
       "    .dataframe tbody tr th:only-of-type {\n",
       "        vertical-align: middle;\n",
       "    }\n",
       "\n",
       "    .dataframe tbody tr th {\n",
       "        vertical-align: top;\n",
       "    }\n",
       "\n",
       "    .dataframe thead th {\n",
       "        text-align: right;\n",
       "    }\n",
       "</style>\n",
       "<table border=\"1\" class=\"dataframe\">\n",
       "  <thead>\n",
       "    <tr style=\"text-align: right;\">\n",
       "      <th></th>\n",
       "      <th></th>\n",
       "      <th>geometry</th>\n",
       "      <th>HYBAS_ID</th>\n",
       "      <th>NEXT_DOWN</th>\n",
       "      <th>NEXT_SINK</th>\n",
       "      <th>MAIN_BAS</th>\n",
       "      <th>DIST_SINK</th>\n",
       "      <th>DIST_MAIN</th>\n",
       "      <th>SUB_AREA</th>\n",
       "      <th>UP_AREA</th>\n",
       "      <th>PFAF_ID</th>\n",
       "      <th>ENDO</th>\n",
       "      <th>COAST</th>\n",
       "      <th>ORDER_</th>\n",
       "      <th>SORT</th>\n",
       "    </tr>\n",
       "    <tr>\n",
       "      <th>level_0</th>\n",
       "      <th>level_1</th>\n",
       "      <th></th>\n",
       "      <th></th>\n",
       "      <th></th>\n",
       "      <th></th>\n",
       "      <th></th>\n",
       "      <th></th>\n",
       "      <th></th>\n",
       "      <th></th>\n",
       "      <th></th>\n",
       "      <th></th>\n",
       "      <th></th>\n",
       "      <th></th>\n",
       "      <th></th>\n",
       "      <th></th>\n",
       "    </tr>\n",
       "  </thead>\n",
       "  <tbody>\n",
       "    <tr>\n",
       "      <th>1</th>\n",
       "      <th>0</th>\n",
       "      <td>POLYGON ((31.88750000000003 29.85833333333337,...</td>\n",
       "      <td>1.060000e+09</td>\n",
       "      <td>0.0</td>\n",
       "      <td>1.060000e+09</td>\n",
       "      <td>1.060000e+09</td>\n",
       "      <td>0.0</td>\n",
       "      <td>0.0</td>\n",
       "      <td>2925.9</td>\n",
       "      <td>2925.9</td>\n",
       "      <td>111012</td>\n",
       "      <td>0</td>\n",
       "      <td>0</td>\n",
       "      <td>1</td>\n",
       "      <td>2.0</td>\n",
       "    </tr>\n",
       "    <tr>\n",
       "      <th>3</th>\n",
       "      <th>0</th>\n",
       "      <td>POLYGON ((32.00833333333336 29.25833333333336,...</td>\n",
       "      <td>1.060000e+09</td>\n",
       "      <td>0.0</td>\n",
       "      <td>1.060000e+09</td>\n",
       "      <td>1.060000e+09</td>\n",
       "      <td>0.0</td>\n",
       "      <td>0.0</td>\n",
       "      <td>4217.3</td>\n",
       "      <td>4217.4</td>\n",
       "      <td>111014</td>\n",
       "      <td>0</td>\n",
       "      <td>0</td>\n",
       "      <td>1</td>\n",
       "      <td>4.0</td>\n",
       "    </tr>\n",
       "    <tr>\n",
       "      <th rowspan=\"3\" valign=\"top\">5</th>\n",
       "      <th>0</th>\n",
       "      <td>POLYGON ((33.47500000000003 26.33750000000002,...</td>\n",
       "      <td>1.060001e+09</td>\n",
       "      <td>0.0</td>\n",
       "      <td>1.060001e+09</td>\n",
       "      <td>1.060001e+09</td>\n",
       "      <td>0.0</td>\n",
       "      <td>0.0</td>\n",
       "      <td>1832.5</td>\n",
       "      <td>1832.5</td>\n",
       "      <td>111016</td>\n",
       "      <td>0</td>\n",
       "      <td>0</td>\n",
       "      <td>1</td>\n",
       "      <td>6.0</td>\n",
       "    </tr>\n",
       "    <tr>\n",
       "      <th>0</th>\n",
       "      <td>POLYGON ((33.47500000000003 26.33750000000002,...</td>\n",
       "      <td>1.070000e+09</td>\n",
       "      <td>0.0</td>\n",
       "      <td>1.070000e+09</td>\n",
       "      <td>1.070000e+09</td>\n",
       "      <td>0.0</td>\n",
       "      <td>0.0</td>\n",
       "      <td>1183.1</td>\n",
       "      <td>1183.1</td>\n",
       "      <td>1110152</td>\n",
       "      <td>0</td>\n",
       "      <td>0</td>\n",
       "      <td>1</td>\n",
       "      <td>6.0</td>\n",
       "    </tr>\n",
       "    <tr>\n",
       "      <th>0</th>\n",
       "      <td>POLYGON ((32.29583333333335 28.01250000000003,...</td>\n",
       "      <td>1.060001e+09</td>\n",
       "      <td>0.0</td>\n",
       "      <td>1.060001e+09</td>\n",
       "      <td>1.060001e+09</td>\n",
       "      <td>0.0</td>\n",
       "      <td>0.0</td>\n",
       "      <td>1832.5</td>\n",
       "      <td>1832.5</td>\n",
       "      <td>111016</td>\n",
       "      <td>0</td>\n",
       "      <td>0</td>\n",
       "      <td>1</td>\n",
       "      <td>6.0</td>\n",
       "    </tr>\n",
       "  </tbody>\n",
       "</table>\n",
       "</div>"
      ],
      "text/plain": [
       "                                                          geometry  \\\n",
       "level_0 level_1                                                      \n",
       "1       0        POLYGON ((31.88750000000003 29.85833333333337,...   \n",
       "3       0        POLYGON ((32.00833333333336 29.25833333333336,...   \n",
       "5       0        POLYGON ((33.47500000000003 26.33750000000002,...   \n",
       "        0        POLYGON ((33.47500000000003 26.33750000000002,...   \n",
       "        0        POLYGON ((32.29583333333335 28.01250000000003,...   \n",
       "\n",
       "                     HYBAS_ID  NEXT_DOWN     NEXT_SINK      MAIN_BAS  \\\n",
       "level_0 level_1                                                        \n",
       "1       0        1.060000e+09        0.0  1.060000e+09  1.060000e+09   \n",
       "3       0        1.060000e+09        0.0  1.060000e+09  1.060000e+09   \n",
       "5       0        1.060001e+09        0.0  1.060001e+09  1.060001e+09   \n",
       "        0        1.070000e+09        0.0  1.070000e+09  1.070000e+09   \n",
       "        0        1.060001e+09        0.0  1.060001e+09  1.060001e+09   \n",
       "\n",
       "                 DIST_SINK  DIST_MAIN  SUB_AREA  UP_AREA  PFAF_ID  ENDO  \\\n",
       "level_0 level_1                                                           \n",
       "1       0              0.0        0.0    2925.9   2925.9   111012     0   \n",
       "3       0              0.0        0.0    4217.3   4217.4   111014     0   \n",
       "5       0              0.0        0.0    1832.5   1832.5   111016     0   \n",
       "        0              0.0        0.0    1183.1   1183.1  1110152     0   \n",
       "        0              0.0        0.0    1832.5   1832.5   111016     0   \n",
       "\n",
       "                 COAST  ORDER_  SORT  \n",
       "level_0 level_1                       \n",
       "1       0            0       1   2.0  \n",
       "3       0            0       1   4.0  \n",
       "5       0            0       1   6.0  \n",
       "        0            0       1   6.0  \n",
       "        0            0       1   6.0  "
      ]
     },
     "execution_count": 20,
     "metadata": {},
     "output_type": "execute_result"
    }
   ],
   "source": [
    "gdf_exploded.head()"
   ]
  },
  {
   "cell_type": "code",
   "execution_count": 21,
   "metadata": {},
   "outputs": [],
   "source": [
    "gdf_exploded_noindex = gdf_exploded.reset_index()\n",
    "gdf_exploded_noindex.drop(columns=[\"level_0\",\"level_1\"],inplace=True)"
   ]
  },
  {
   "cell_type": "code",
   "execution_count": 22,
   "metadata": {},
   "outputs": [],
   "source": [
    "output_filename = \"test.shp\""
   ]
  },
  {
   "cell_type": "code",
   "execution_count": 23,
   "metadata": {
    "collapsed": true
   },
   "outputs": [],
   "source": [
    "output_path = \"{}/{}\".format(ec2_output_path,output_filename)"
   ]
  },
  {
   "cell_type": "code",
   "execution_count": 24,
   "metadata": {
    "collapsed": true
   },
   "outputs": [],
   "source": [
    "gdf_exploded_noindex['index'] = gdf_exploded_noindex.index"
   ]
  },
  {
   "cell_type": "code",
   "execution_count": 25,
   "metadata": {},
   "outputs": [],
   "source": [
    "gdf_exploded_noindex.to_file(filename=output_path,driver=\"ESRI Shapefile\")"
   ]
  },
  {
   "cell_type": "code",
   "execution_count": 26,
   "metadata": {},
   "outputs": [
    {
     "name": "stdout",
     "output_type": "stream",
     "text": [
      "upload: ../../../data/Y2019M06D13_RH_Combine_Levels_V01/output_V01/test.cpg to s3://wri-projects/Aqueduct30/processData/Y2019M06D13_RH_Combine_Levels_V01/output_V01/test.cpg\n",
      "upload: ../../../data/Y2019M06D13_RH_Combine_Levels_V01/output_V01/test.prj to s3://wri-projects/Aqueduct30/processData/Y2019M06D13_RH_Combine_Levels_V01/output_V01/test.prj\n",
      "upload: ../../../data/Y2019M06D13_RH_Combine_Levels_V01/output_V01/test.shx to s3://wri-projects/Aqueduct30/processData/Y2019M06D13_RH_Combine_Levels_V01/output_V01/test.shx\n",
      "upload: ../../../data/Y2019M06D13_RH_Combine_Levels_V01/output_V01/test.dbf to s3://wri-projects/Aqueduct30/processData/Y2019M06D13_RH_Combine_Levels_V01/output_V01/test.dbf\n",
      "upload: ../../../data/Y2019M06D13_RH_Combine_Levels_V01/output_V01/test.shp to s3://wri-projects/Aqueduct30/processData/Y2019M06D13_RH_Combine_Levels_V01/output_V01/test.shp\n"
     ]
    }
   ],
   "source": [
    "!aws s3 cp {ec2_output_path} {s3_output_path} --recursive "
   ]
  },
  {
   "cell_type": "code",
   "execution_count": null,
   "metadata": {
    "collapsed": true
   },
   "outputs": [],
   "source": []
  }
 ],
 "metadata": {
  "kernelspec": {
   "display_name": "Python 35",
   "language": "python",
   "name": "python35"
  },
  "language_info": {
   "codemirror_mode": {
    "name": "ipython",
    "version": 3
   },
   "file_extension": ".py",
   "mimetype": "text/x-python",
   "name": "python",
   "nbconvert_exporter": "python",
   "pygments_lexer": "ipython3",
   "version": "3.5.4"
  }
 },
 "nbformat": 4,
 "nbformat_minor": 2
}
