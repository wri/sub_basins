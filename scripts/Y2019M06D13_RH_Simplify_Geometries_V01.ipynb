{
 "cells": [
  {
   "cell_type": "code",
   "execution_count": 52,
   "metadata": {
    "collapsed": true
   },
   "outputs": [],
   "source": [
    "\"\"\" Simplify geometry\n",
    "-------------------------------------------------------------------------------\n",
    "\n",
    "Simplify hydrobasin level 6 and 7 geometries. \n",
    "\n",
    "This script is not used since geopandas creates gaps between polygons after \n",
    "simplification. MapShaper can use a more advanced simplification algorithm.\n",
    "\n",
    "We use https://mapshaper.org/ with the following settings:\n",
    "\n",
    "- input_files = See S3 input path\n",
    "- detect line intersections = True\n",
    "- snap vertices = True\n",
    "\n",
    "Simplify\n",
    "- prevent shape removal = False\n",
    "- use planar geometry = False\n",
    "- method: Visvalingam's Algorithm / weighted area\n",
    "\n",
    "percentage: 50% (Selected based on visual inspection)\n",
    "44 line errors (level7)\n",
    "12 line errors (level6):\n",
    "- repair = True\n",
    "\n",
    "\n",
    "Author: Rutger Hofste\n",
    "Date: 20190613\n",
    "Kernel: python35\n",
    "Docker: rutgerhofste/gisdocker:ubuntu16.04\n",
    "\n",
    "\"\"\"\n",
    "\n",
    "SCRIPT_NAME = \"Y2019M06D13_RH_Simplify_Geometries_V01\"\n",
    "OUTPUT_VERSION  = 1\n",
    " \n",
    "# Tolerance in degrees (appr. 1 km at equator)\n",
    "TOLERANCE = 360/43200 \n",
    "\n",
    "S3_INPUT_PATH= \"s3://wri-projects/Aqueduct30/rawData/WWF/HydroSheds30sComplete/00_consolidated\"\n",
    "\n",
    "ec2_input_path = \"/volumes/data/{}/input_V{:02.0f}\".format(SCRIPT_NAME,OUTPUT_VERSION)\n",
    "ec2_output_path = \"/volumes/data/{}/output_V{:02.0f}\".format(SCRIPT_NAME,OUTPUT_VERSION)\n",
    "\n",
    "s3_output_path = \"s3://wri-projects/Aqueduct30/processData/{}/output_V{:02.0f}/\".format(SCRIPT_NAME,OUTPUT_VERSION)\n"
   ]
  },
  {
   "cell_type": "code",
   "execution_count": 32,
   "metadata": {},
   "outputs": [
    {
     "name": "stdout",
     "output_type": "stream",
     "text": [
      "Y2019M06D13 UTC 19:40\n"
     ]
    }
   ],
   "source": [
    "import time, datetime, sys\n",
    "dateString = time.strftime(\"Y%YM%mD%d\")\n",
    "timeString = time.strftime(\"UTC %H:%M\")\n",
    "start = datetime.datetime.now()\n",
    "print(dateString,timeString)\n",
    "sys.version\n",
    "%matplotlib inline"
   ]
  },
  {
   "cell_type": "code",
   "execution_count": 7,
   "metadata": {
    "collapsed": true
   },
   "outputs": [],
   "source": [
    "levels = [6]"
   ]
  },
  {
   "cell_type": "code",
   "execution_count": 17,
   "metadata": {
    "collapsed": true
   },
   "outputs": [],
   "source": [
    "level = levels[0]"
   ]
  },
  {
   "cell_type": "code",
   "execution_count": 9,
   "metadata": {},
   "outputs": [],
   "source": [
    "!rm -r {ec2_input_path} \n",
    "!rm -r {ec2_output_path} \n",
    "!mkdir -p {ec2_input_path} \n",
    "!mkdir -p {ec2_output_path} "
   ]
  },
  {
   "cell_type": "code",
   "execution_count": 18,
   "metadata": {
    "collapsed": true
   },
   "outputs": [],
   "source": [
    "s3_input_path = \"{}/level{}\".format(S3_INPUT_PATH,level)"
   ]
  },
  {
   "cell_type": "code",
   "execution_count": 19,
   "metadata": {},
   "outputs": [
    {
     "data": {
      "text/plain": [
       "'s3://wri-projects/Aqueduct30/rawData/WWF/HydroSheds30sComplete/00_consolidated/level6'"
      ]
     },
     "execution_count": 19,
     "metadata": {},
     "output_type": "execute_result"
    }
   ],
   "source": [
    "s3_input_path"
   ]
  },
  {
   "cell_type": "code",
   "execution_count": 20,
   "metadata": {},
   "outputs": [
    {
     "name": "stdout",
     "output_type": "stream",
     "text": [
      "download: s3://wri-projects/Aqueduct30/rawData/WWF/HydroSheds30sComplete/00_consolidated/level6/hybas_merged_standard_level6_V01.cpg to ../../../data/Y2019M06D13_RH_Simplify_Geometries_V01/input_V01/hybas_merged_standard_level6_V01.cpg\n",
      "download: s3://wri-projects/Aqueduct30/rawData/WWF/HydroSheds30sComplete/00_consolidated/level6/hybas_merged_standard_level6_V01.prj to ../../../data/Y2019M06D13_RH_Simplify_Geometries_V01/input_V01/hybas_merged_standard_level6_V01.prj\n",
      "download: s3://wri-projects/Aqueduct30/rawData/WWF/HydroSheds30sComplete/00_consolidated/level6/hybas_merged_standard_level6_V01.sbx to ../../../data/Y2019M06D13_RH_Simplify_Geometries_V01/input_V01/hybas_merged_standard_level6_V01.sbx\n",
      "download: s3://wri-projects/Aqueduct30/rawData/WWF/HydroSheds30sComplete/00_consolidated/level6/mergeShapefilesArc01.py to ../../../data/Y2019M06D13_RH_Simplify_Geometries_V01/input_V01/mergeShapefilesArc01.py\n",
      "download: s3://wri-projects/Aqueduct30/rawData/WWF/HydroSheds30sComplete/00_consolidated/level6/readme.txt to ../../../data/Y2019M06D13_RH_Simplify_Geometries_V01/input_V01/readme.txt\n",
      "download: s3://wri-projects/Aqueduct30/rawData/WWF/HydroSheds30sComplete/00_consolidated/level6/hybas_merged_standard_level6_V01.shp.xml to ../../../data/Y2019M06D13_RH_Simplify_Geometries_V01/input_V01/hybas_merged_standard_level6_V01.shp.xml\n",
      "download: s3://wri-projects/Aqueduct30/rawData/WWF/HydroSheds30sComplete/00_consolidated/level6/hybas_merged_standard_level6_V01.shx to ../../../data/Y2019M06D13_RH_Simplify_Geometries_V01/input_V01/hybas_merged_standard_level6_V01.shx\n",
      "download: s3://wri-projects/Aqueduct30/rawData/WWF/HydroSheds30sComplete/00_consolidated/level6/hybas_merged_standard_level6_V01.sbn to ../../../data/Y2019M06D13_RH_Simplify_Geometries_V01/input_V01/hybas_merged_standard_level6_V01.sbn\n",
      "download: s3://wri-projects/Aqueduct30/rawData/WWF/HydroSheds30sComplete/00_consolidated/level6/hybas_merged_standard_level6_V01.csv to ../../../data/Y2019M06D13_RH_Simplify_Geometries_V01/input_V01/hybas_merged_standard_level6_V01.csv\n",
      "download: s3://wri-projects/Aqueduct30/rawData/WWF/HydroSheds30sComplete/00_consolidated/level6/hybas_merged_standard_level6_V01.dbf to ../../../data/Y2019M06D13_RH_Simplify_Geometries_V01/input_V01/hybas_merged_standard_level6_V01.dbf\n",
      "download: s3://wri-projects/Aqueduct30/rawData/WWF/HydroSheds30sComplete/00_consolidated/level6/hybas_merged_standard_level6_V01.shp to ../../../data/Y2019M06D13_RH_Simplify_Geometries_V01/input_V01/hybas_merged_standard_level6_V01.shp\n"
     ]
    }
   ],
   "source": [
    "!aws s3 cp {s3_input_path} {ec2_input_path} --recursive"
   ]
  },
  {
   "cell_type": "code",
   "execution_count": 21,
   "metadata": {
    "collapsed": true
   },
   "outputs": [],
   "source": [
    "input_filename = \"hybas_merged_standard_level{}_V01.shp\".format(level)"
   ]
  },
  {
   "cell_type": "code",
   "execution_count": 23,
   "metadata": {
    "collapsed": true
   },
   "outputs": [],
   "source": [
    "input_path = \"{}/{}\".format(ec2_input_path,input_filename)"
   ]
  },
  {
   "cell_type": "code",
   "execution_count": 24,
   "metadata": {
    "collapsed": true
   },
   "outputs": [],
   "source": [
    "import geopandas as gpd"
   ]
  },
  {
   "cell_type": "code",
   "execution_count": 25,
   "metadata": {
    "collapsed": true
   },
   "outputs": [],
   "source": [
    "gdf = gpd.read_file(filename=input_path)"
   ]
  },
  {
   "cell_type": "code",
   "execution_count": 28,
   "metadata": {},
   "outputs": [],
   "source": [
    "gdf =gdf[1:10]"
   ]
  },
  {
   "cell_type": "code",
   "execution_count": 40,
   "metadata": {
    "collapsed": true
   },
   "outputs": [],
   "source": [
    "gdf_simplified = gdf.copy()"
   ]
  },
  {
   "cell_type": "code",
   "execution_count": 41,
   "metadata": {},
   "outputs": [],
   "source": [
    "gdf_simplified[\"geometry\"] = gdf.geometry.simplify(tolerance=TOLERANCE,preserve_topology=True)"
   ]
  },
  {
   "cell_type": "code",
   "execution_count": 45,
   "metadata": {},
   "outputs": [],
   "source": [
    "output_filename = \"hydrobasin_level_{:02d}_simplified.shp\".format(level)"
   ]
  },
  {
   "cell_type": "code",
   "execution_count": 47,
   "metadata": {
    "collapsed": true
   },
   "outputs": [],
   "source": [
    "output_path = \"{}/{}\".format(ec2_output_path,output_filename)"
   ]
  },
  {
   "cell_type": "code",
   "execution_count": 54,
   "metadata": {},
   "outputs": [
    {
     "data": {
      "text/plain": [
       "{'init': 'epsg:4326'}"
      ]
     },
     "execution_count": 54,
     "metadata": {},
     "output_type": "execute_result"
    }
   ],
   "source": [
    "gdf.crs"
   ]
  },
  {
   "cell_type": "code",
   "execution_count": 51,
   "metadata": {},
   "outputs": [],
   "source": [
    "gdf_simplified.to_file(filename=output_path,\n",
    "                       driver=\"ESRI Shapefile\")"
   ]
  },
  {
   "cell_type": "code",
   "execution_count": 53,
   "metadata": {},
   "outputs": [
    {
     "name": "stdout",
     "output_type": "stream",
     "text": [
      "upload: ../../../data/Y2019M06D13_RH_Simplify_Geometries_V01/output_V01/hydrobasin_level_06_simplified.prj to s3://wri-projects/Aqueduct30/processData/Y2019M06D13_RH_Simplify_Geometries_V01/output_V01/hydrobasin_level_06_simplified.prj\n",
      "upload: ../../../data/Y2019M06D13_RH_Simplify_Geometries_V01/output_V01/hydrobasin_level_06_simplified.shx to s3://wri-projects/Aqueduct30/processData/Y2019M06D13_RH_Simplify_Geometries_V01/output_V01/hydrobasin_level_06_simplified.shx\n",
      "upload: ../../../data/Y2019M06D13_RH_Simplify_Geometries_V01/output_V01/hydrobasin_level_06_simplified.dbf to s3://wri-projects/Aqueduct30/processData/Y2019M06D13_RH_Simplify_Geometries_V01/output_V01/hydrobasin_level_06_simplified.dbf\n",
      "upload: ../../../data/Y2019M06D13_RH_Simplify_Geometries_V01/output_V01/hydrobasin_level_06_simplified.cpg to s3://wri-projects/Aqueduct30/processData/Y2019M06D13_RH_Simplify_Geometries_V01/output_V01/hydrobasin_level_06_simplified.cpg\n",
      "upload: ../../../data/Y2019M06D13_RH_Simplify_Geometries_V01/output_V01/hydrobasin_level_06_simplified.shp to s3://wri-projects/Aqueduct30/processData/Y2019M06D13_RH_Simplify_Geometries_V01/output_V01/hydrobasin_level_06_simplified.shp\n"
     ]
    }
   ],
   "source": [
    "!aws s3 cp {ec2_output_path} {s3_output_path} --recursive "
   ]
  },
  {
   "cell_type": "code",
   "execution_count": null,
   "metadata": {
    "collapsed": true
   },
   "outputs": [],
   "source": []
  }
 ],
 "metadata": {
  "kernelspec": {
   "display_name": "Python 35",
   "language": "python",
   "name": "python35"
  },
  "language_info": {
   "codemirror_mode": {
    "name": "ipython",
    "version": 3
   },
   "file_extension": ".py",
   "mimetype": "text/x-python",
   "name": "python",
   "nbconvert_exporter": "python",
   "pygments_lexer": "ipython3",
   "version": "3.5.4"
  }
 },
 "nbformat": 4,
 "nbformat_minor": 2
}
