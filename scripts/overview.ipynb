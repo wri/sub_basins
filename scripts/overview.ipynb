{
 "cells": [
  {
   "cell_type": "markdown",
   "metadata": {},
   "source": [
    "Script order\n",
    "\n",
    "\n",
    "1. **Y2019M06D13_RH_Simplify_Geometries_V01**  \n",
    "    Simplify hydrobasin level 6 and 7 geometries. \n",
    "1. **Y2019M06D13_RH_Combine_Levels_V01**  \n",
    "    Combine level 7 for coastal and level 6 inland.\n",
    "\n"
   ]
  }
 ],
 "metadata": {
  "kernelspec": {
   "display_name": "Python 35",
   "language": "python",
   "name": "python35"
  },
  "language_info": {
   "codemirror_mode": {
    "name": "ipython",
    "version": 3
   },
   "file_extension": ".py",
   "mimetype": "text/x-python",
   "name": "python",
   "nbconvert_exporter": "python",
   "pygments_lexer": "ipython3",
   "version": "3.5.4"
  }
 },
 "nbformat": 4,
 "nbformat_minor": 2
}
